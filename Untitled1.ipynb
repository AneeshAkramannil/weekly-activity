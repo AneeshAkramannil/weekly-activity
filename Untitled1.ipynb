{
 "cells": [
  {
   "cell_type": "markdown",
   "id": "93df67b3",
   "metadata": {},
   "source": [
    "# Q&A Activity Question Week -06\n",
    "\n",
    "Read the data set into python \n",
    "\n",
    "1. Find out how many countries are there in the dataset.\n",
    "2. Examine the data by using visualizations.\n",
    "3. Find out how many countries with respect to the region are available\n",
    "   in the dataset\n",
    "4. On average which region has the highest.\n",
    "   a) GDP per capita (current US$)\n",
    "   b) International trade : Imports (million US$)\n",
    "   \n",
    "5. Find out which region has more consistent with respect to GDP per\n",
    "   capita (current US$)"
   ]
  },
  {
   "cell_type": "markdown",
   "id": "78a1d3b8",
   "metadata": {},
   "source": [
    "# Read the data set into python"
   ]
  },
  {
   "cell_type": "code",
   "execution_count": 24,
   "id": "03c943bb",
   "metadata": {},
   "outputs": [
    {
     "data": {
      "text/html": [
       "<div>\n",
       "<style scoped>\n",
       "    .dataframe tbody tr th:only-of-type {\n",
       "        vertical-align: middle;\n",
       "    }\n",
       "\n",
       "    .dataframe tbody tr th {\n",
       "        vertical-align: top;\n",
       "    }\n",
       "\n",
       "    .dataframe thead th {\n",
       "        text-align: right;\n",
       "    }\n",
       "</style>\n",
       "<table border=\"1\" class=\"dataframe\">\n",
       "  <thead>\n",
       "    <tr style=\"text-align: right;\">\n",
       "      <th></th>\n",
       "      <th>country</th>\n",
       "      <th>Region</th>\n",
       "      <th>Surface area (km2)</th>\n",
       "      <th>Population in thousands (2017)</th>\n",
       "      <th>GDP per capita (current US$)</th>\n",
       "      <th>Agricultural production index</th>\n",
       "      <th>International trade: Imports (million US$)</th>\n",
       "    </tr>\n",
       "  </thead>\n",
       "  <tbody>\n",
       "    <tr>\n",
       "      <th>0</th>\n",
       "      <td>Afghanistan</td>\n",
       "      <td>SouthernAsia</td>\n",
       "      <td>652864.0</td>\n",
       "      <td>35530.0</td>\n",
       "      <td>623.2</td>\n",
       "      <td>125.0</td>\n",
       "      <td>3568.0</td>\n",
       "    </tr>\n",
       "    <tr>\n",
       "      <th>1</th>\n",
       "      <td>Albania</td>\n",
       "      <td>SouthernEurope</td>\n",
       "      <td>28748.0</td>\n",
       "      <td>2930.0</td>\n",
       "      <td>3984.2</td>\n",
       "      <td>134.0</td>\n",
       "      <td>4669.0</td>\n",
       "    </tr>\n",
       "    <tr>\n",
       "      <th>2</th>\n",
       "      <td>Algeria</td>\n",
       "      <td>NorthernAfrica</td>\n",
       "      <td>2381741.0</td>\n",
       "      <td>41318.0</td>\n",
       "      <td>4154.1</td>\n",
       "      <td>160.0</td>\n",
       "      <td>47091.0</td>\n",
       "    </tr>\n",
       "    <tr>\n",
       "      <th>3</th>\n",
       "      <td>Angola</td>\n",
       "      <td>MiddleAfrica</td>\n",
       "      <td>1246700.0</td>\n",
       "      <td>29784.0</td>\n",
       "      <td>4714.1</td>\n",
       "      <td>175.0</td>\n",
       "      <td>8790.0</td>\n",
       "    </tr>\n",
       "    <tr>\n",
       "      <th>4</th>\n",
       "      <td>Antigua and Barbuda</td>\n",
       "      <td>Caribbean</td>\n",
       "      <td>442.0</td>\n",
       "      <td>102.0</td>\n",
       "      <td>14764.5</td>\n",
       "      <td>88.0</td>\n",
       "      <td>491.0</td>\n",
       "    </tr>\n",
       "    <tr>\n",
       "      <th>...</th>\n",
       "      <td>...</td>\n",
       "      <td>...</td>\n",
       "      <td>...</td>\n",
       "      <td>...</td>\n",
       "      <td>...</td>\n",
       "      <td>...</td>\n",
       "      <td>...</td>\n",
       "    </tr>\n",
       "    <tr>\n",
       "      <th>191</th>\n",
       "      <td>Venezuela (Bolivarian Republic of)</td>\n",
       "      <td>SouthAmerica</td>\n",
       "      <td>912050.0</td>\n",
       "      <td>31977.0</td>\n",
       "      <td>11068.9</td>\n",
       "      <td>118.0</td>\n",
       "      <td>16324.0</td>\n",
       "    </tr>\n",
       "    <tr>\n",
       "      <th>192</th>\n",
       "      <td>Viet Nam</td>\n",
       "      <td>South-easternAsia</td>\n",
       "      <td>330967.0</td>\n",
       "      <td>95541.0</td>\n",
       "      <td>2067.9</td>\n",
       "      <td>136.0</td>\n",
       "      <td>174111.0</td>\n",
       "    </tr>\n",
       "    <tr>\n",
       "      <th>193</th>\n",
       "      <td>Yemen</td>\n",
       "      <td>WesternAsia</td>\n",
       "      <td>527968.0</td>\n",
       "      <td>28250.0</td>\n",
       "      <td>1106.4</td>\n",
       "      <td>136.0</td>\n",
       "      <td>6861.0</td>\n",
       "    </tr>\n",
       "    <tr>\n",
       "      <th>194</th>\n",
       "      <td>Zambia</td>\n",
       "      <td>EasternAfrica</td>\n",
       "      <td>752612.0</td>\n",
       "      <td>17094.0</td>\n",
       "      <td>1311.1</td>\n",
       "      <td>179.0</td>\n",
       "      <td>7442.0</td>\n",
       "    </tr>\n",
       "    <tr>\n",
       "      <th>195</th>\n",
       "      <td>Zimbabwe</td>\n",
       "      <td>EasternAfrica</td>\n",
       "      <td>390757.0</td>\n",
       "      <td>16530.0</td>\n",
       "      <td>890.4</td>\n",
       "      <td>99.0</td>\n",
       "      <td>5212.0</td>\n",
       "    </tr>\n",
       "  </tbody>\n",
       "</table>\n",
       "<p>196 rows × 7 columns</p>\n",
       "</div>"
      ],
      "text/plain": [
       "                                country             Region  \\\n",
       "0                           Afghanistan       SouthernAsia   \n",
       "1                               Albania     SouthernEurope   \n",
       "2                               Algeria     NorthernAfrica   \n",
       "3                                Angola       MiddleAfrica   \n",
       "4                   Antigua and Barbuda          Caribbean   \n",
       "..                                  ...                ...   \n",
       "191  Venezuela (Bolivarian Republic of)       SouthAmerica   \n",
       "192                            Viet Nam  South-easternAsia   \n",
       "193                               Yemen        WesternAsia   \n",
       "194                              Zambia      EasternAfrica   \n",
       "195                            Zimbabwe      EasternAfrica   \n",
       "\n",
       "     Surface area (km2)  Population in thousands (2017)  \\\n",
       "0              652864.0                         35530.0   \n",
       "1               28748.0                          2930.0   \n",
       "2             2381741.0                         41318.0   \n",
       "3             1246700.0                         29784.0   \n",
       "4                 442.0                           102.0   \n",
       "..                  ...                             ...   \n",
       "191            912050.0                         31977.0   \n",
       "192            330967.0                         95541.0   \n",
       "193            527968.0                         28250.0   \n",
       "194            752612.0                         17094.0   \n",
       "195            390757.0                         16530.0   \n",
       "\n",
       "     GDP per capita (current US$)  Agricultural production index   \\\n",
       "0                           623.2                           125.0   \n",
       "1                          3984.2                           134.0   \n",
       "2                          4154.1                           160.0   \n",
       "3                          4714.1                           175.0   \n",
       "4                         14764.5                            88.0   \n",
       "..                            ...                             ...   \n",
       "191                       11068.9                           118.0   \n",
       "192                        2067.9                           136.0   \n",
       "193                        1106.4                           136.0   \n",
       "194                        1311.1                           179.0   \n",
       "195                         890.4                            99.0   \n",
       "\n",
       "     International trade: Imports (million US$)  \n",
       "0                                        3568.0  \n",
       "1                                        4669.0  \n",
       "2                                       47091.0  \n",
       "3                                        8790.0  \n",
       "4                                         491.0  \n",
       "..                                          ...  \n",
       "191                                     16324.0  \n",
       "192                                    174111.0  \n",
       "193                                      6861.0  \n",
       "194                                      7442.0  \n",
       "195                                      5212.0  \n",
       "\n",
       "[196 rows x 7 columns]"
      ]
     },
     "execution_count": 24,
     "metadata": {},
     "output_type": "execute_result"
    }
   ],
   "source": [
    "#impoting all set of libraries\n",
    "\n",
    "import pandas as pd\n",
    "import numpy as np\n",
    "import matplotlib.pyplot as plt\n",
    "import seaborn as sns\n",
    "\n",
    "#importing the data set from the directory\n",
    "\n",
    "da = pd.ExcelFile(\"Dataset_w6.xlsx\")\n",
    "dat= da.parse(0)\n",
    "dat"
   ]
  },
  {
   "cell_type": "markdown",
   "id": "d1086694",
   "metadata": {},
   "source": [
    "# 1.Find out how many countries are there in the dataset."
   ]
  },
  {
   "cell_type": "code",
   "execution_count": 25,
   "id": "1b7baecc",
   "metadata": {},
   "outputs": [
    {
     "data": {
      "text/plain": [
       "196"
      ]
     },
     "execution_count": 25,
     "metadata": {},
     "output_type": "execute_result"
    }
   ],
   "source": [
    "#using count function >> it gives the total objects in the column\n",
    "\n",
    "dat['country'].count()"
   ]
  },
  {
   "cell_type": "code",
   "execution_count": 8,
   "id": "5c4ad2b6",
   "metadata": {},
   "outputs": [
    {
     "data": {
      "text/plain": [
       "count             196\n",
       "unique            196\n",
       "top       Afghanistan\n",
       "freq                1\n",
       "Name: country, dtype: object"
      ]
     },
     "execution_count": 8,
     "metadata": {},
     "output_type": "execute_result"
    }
   ],
   "source": [
    "#using describe >> it gives the frquency of the objects in the column\n",
    "\n",
    "dat['country'].describe()"
   ]
  },
  {
   "cell_type": "code",
   "execution_count": 9,
   "id": "62e0e677",
   "metadata": {},
   "outputs": [
    {
     "name": "stdout",
     "output_type": "stream",
     "text": [
      "<class 'pandas.core.frame.DataFrame'>\n",
      "RangeIndex: 196 entries, 0 to 195\n",
      "Data columns (total 7 columns):\n",
      " #   Column                                      Non-Null Count  Dtype  \n",
      "---  ------                                      --------------  -----  \n",
      " 0   country                                     196 non-null    object \n",
      " 1   Region                                      196 non-null    object \n",
      " 2   Surface area (km2)                          196 non-null    float64\n",
      " 3   Population in thousands (2017)              196 non-null    float64\n",
      " 4   GDP per capita (current US$)                196 non-null    float64\n",
      " 5   Agricultural production index               196 non-null    float64\n",
      " 6   International trade: Imports (million US$)  196 non-null    float64\n",
      "dtypes: float64(5), object(2)\n",
      "memory usage: 10.8+ KB\n"
     ]
    }
   ],
   "source": [
    "#using  info >> anlyse the whole data set\n",
    "\n",
    "dat.info()"
   ]
  },
  {
   "cell_type": "markdown",
   "id": "1b0ad0b1",
   "metadata": {},
   "source": [
    "\n",
    "\n",
    "There are 196 countries in the given data set\n"
   ]
  },
  {
   "cell_type": "markdown",
   "id": "46ac298b",
   "metadata": {},
   "source": [
    "# 2.Examine the data by using visualizations."
   ]
  },
  {
   "cell_type": "markdown",
   "id": "b4607134",
   "metadata": {},
   "source": [
    "visualization_1"
   ]
  },
  {
   "cell_type": "code",
   "execution_count": 28,
   "id": "ca52de2b",
   "metadata": {},
   "outputs": [
    {
     "data": {
      "image/png": "[encoded data removed]",
      "text/plain": [
       "<Figure size 720x720 with 2 Axes>"
      ]
     },
     "metadata": {
      "needs_background": "light"
     },
     "output_type": "display_data"
    }
   ],
   "source": [
    "import seaborn as sns\n",
    "import matplotlib.pyplot as plt\n",
    "\n",
    "plt.figure(figsize=(10,10))\n",
    "\n",
    "plt.subplot(2,1,1)\n",
    "sns.barplot(x = 'Region', y = 'GDP per capita (current US$)',data = dat)\n",
    "plt.title(' Region vs GDP ',fontsize = 15)\n",
    "plt.xlabel('Region')\n",
    "plt.ylabel('GDP')\n",
    "plt.xticks(rotation = 90)\n",
    "\n",
    "plt.subplot(2,1,2)\n",
    "sns.barplot(x = 'Region', y = 'Agricultural production index ',data = dat)\n",
    "plt.title('Region vs Agricultural production index',fontsize = 15)\n",
    "plt.xticks(rotation = 90)\n",
    "plt.tight_layout()\n",
    "plt.show()"
   ]
  },
  {
   "cell_type": "markdown",
   "id": "6416c754",
   "metadata": {},
   "source": [
    "# INSIGHTS :\n",
    "    Top 3 regions with high GDP are Northern America , Western Europe & Oceania respectively. &\n",
    "    Top 3 regions With higher  Agricultural production index are South-eastern asia , central asia & EasternAsia respectively.\n",
    "    So , its shows that the  the Agricultural production index is not making any effect on the GDP of the region.\n",
    "    "
   ]
  },
  {
   "cell_type": "markdown",
   "id": "ef75eec6",
   "metadata": {},
   "source": [
    "visualization_2"
   ]
  },
  {
   "cell_type": "code",
   "execution_count": 29,
   "id": "bf06b9b5",
   "metadata": {},
   "outputs": [
    {
     "data": {
      "image/png": "[encoded data removed]",
      "text/plain": [
       "<Figure size 432x288 with 1 Axes>"
      ]
     },
     "metadata": {
      "needs_background": "light"
     },
     "output_type": "display_data"
    }
   ],
   "source": [
    "sns.barplot(x = 'Region', y = 'International trade: Imports (million US$)',data = dat)\n",
    "plt.title('Region vs Imports',fontsize = 15)\n",
    "plt.xticks(rotation = 90)\n",
    "plt.xlabel('Region')\n",
    "plt.ylabel('Imports')\n",
    "plt.tight_layout()\n",
    "plt.show()"
   ]
  },
  {
   "cell_type": "markdown",
   "id": "8c61bc93",
   "metadata": {},
   "source": [
    "# Insight:\n",
    "    Highest amount of import is in Northern America"
   ]
  },
  {
   "cell_type": "markdown",
   "id": "ff6c8b33",
   "metadata": {},
   "source": [
    "# 3.Find out how many countries with respect to the region are available in the dataset"
   ]
  },
  {
   "cell_type": "code",
   "execution_count": 30,
   "id": "4399941b",
   "metadata": {},
   "outputs": [
    {
     "data": {
      "text/html": [
       "<div>\n",
       "<style scoped>\n",
       "    .dataframe tbody tr th:only-of-type {\n",
       "        vertical-align: middle;\n",
       "    }\n",
       "\n",
       "    .dataframe tbody tr th {\n",
       "        vertical-align: top;\n",
       "    }\n",
       "\n",
       "    .dataframe thead th {\n",
       "        text-align: right;\n",
       "    }\n",
       "</style>\n",
       "<table border=\"1\" class=\"dataframe\">\n",
       "  <thead>\n",
       "    <tr style=\"text-align: right;\">\n",
       "      <th></th>\n",
       "      <th>count</th>\n",
       "      <th>unique</th>\n",
       "      <th>top</th>\n",
       "      <th>freq</th>\n",
       "    </tr>\n",
       "    <tr>\n",
       "      <th>Region</th>\n",
       "      <th></th>\n",
       "      <th></th>\n",
       "      <th></th>\n",
       "      <th></th>\n",
       "    </tr>\n",
       "  </thead>\n",
       "  <tbody>\n",
       "    <tr>\n",
       "      <th>Caribbean</th>\n",
       "      <td>16</td>\n",
       "      <td>16</td>\n",
       "      <td>Antigua and Barbuda</td>\n",
       "      <td>1</td>\n",
       "    </tr>\n",
       "    <tr>\n",
       "      <th>CentralAmerica</th>\n",
       "      <td>8</td>\n",
       "      <td>8</td>\n",
       "      <td>Belize</td>\n",
       "      <td>1</td>\n",
       "    </tr>\n",
       "    <tr>\n",
       "      <th>CentralAsia</th>\n",
       "      <td>5</td>\n",
       "      <td>5</td>\n",
       "      <td>Kazakhstan</td>\n",
       "      <td>1</td>\n",
       "    </tr>\n",
       "    <tr>\n",
       "      <th>EasternAfrica</th>\n",
       "      <td>17</td>\n",
       "      <td>17</td>\n",
       "      <td>Burundi</td>\n",
       "      <td>1</td>\n",
       "    </tr>\n",
       "    <tr>\n",
       "      <th>EasternAsia</th>\n",
       "      <td>7</td>\n",
       "      <td>7</td>\n",
       "      <td>China, Hong Kong SAR</td>\n",
       "      <td>1</td>\n",
       "    </tr>\n",
       "    <tr>\n",
       "      <th>EasternEurope</th>\n",
       "      <td>10</td>\n",
       "      <td>10</td>\n",
       "      <td>Belarus</td>\n",
       "      <td>1</td>\n",
       "    </tr>\n",
       "    <tr>\n",
       "      <th>Melanesia</th>\n",
       "      <td>5</td>\n",
       "      <td>5</td>\n",
       "      <td>Fiji</td>\n",
       "      <td>1</td>\n",
       "    </tr>\n",
       "    <tr>\n",
       "      <th>Micronesia</th>\n",
       "      <td>4</td>\n",
       "      <td>4</td>\n",
       "      <td>Kiribati</td>\n",
       "      <td>1</td>\n",
       "    </tr>\n",
       "    <tr>\n",
       "      <th>MiddleAfrica</th>\n",
       "      <td>9</td>\n",
       "      <td>9</td>\n",
       "      <td>Angola</td>\n",
       "      <td>1</td>\n",
       "    </tr>\n",
       "    <tr>\n",
       "      <th>NorthernAfrica</th>\n",
       "      <td>5</td>\n",
       "      <td>5</td>\n",
       "      <td>Algeria</td>\n",
       "      <td>1</td>\n",
       "    </tr>\n",
       "    <tr>\n",
       "      <th>NorthernAmerica</th>\n",
       "      <td>4</td>\n",
       "      <td>4</td>\n",
       "      <td>Bermuda</td>\n",
       "      <td>1</td>\n",
       "    </tr>\n",
       "    <tr>\n",
       "      <th>NorthernEurope</th>\n",
       "      <td>10</td>\n",
       "      <td>10</td>\n",
       "      <td>Denmark</td>\n",
       "      <td>1</td>\n",
       "    </tr>\n",
       "    <tr>\n",
       "      <th>Oceania</th>\n",
       "      <td>2</td>\n",
       "      <td>2</td>\n",
       "      <td>Australia</td>\n",
       "      <td>1</td>\n",
       "    </tr>\n",
       "    <tr>\n",
       "      <th>Polynesia</th>\n",
       "      <td>5</td>\n",
       "      <td>5</td>\n",
       "      <td>Cook Islands</td>\n",
       "      <td>1</td>\n",
       "    </tr>\n",
       "    <tr>\n",
       "      <th>South-easternAsia</th>\n",
       "      <td>11</td>\n",
       "      <td>11</td>\n",
       "      <td>Brunei Darussalam</td>\n",
       "      <td>1</td>\n",
       "    </tr>\n",
       "    <tr>\n",
       "      <th>SouthAmerica</th>\n",
       "      <td>12</td>\n",
       "      <td>12</td>\n",
       "      <td>Argentina</td>\n",
       "      <td>1</td>\n",
       "    </tr>\n",
       "    <tr>\n",
       "      <th>SouthernAfrica</th>\n",
       "      <td>5</td>\n",
       "      <td>5</td>\n",
       "      <td>Botswana</td>\n",
       "      <td>1</td>\n",
       "    </tr>\n",
       "    <tr>\n",
       "      <th>SouthernAsia</th>\n",
       "      <td>9</td>\n",
       "      <td>9</td>\n",
       "      <td>Afghanistan</td>\n",
       "      <td>1</td>\n",
       "    </tr>\n",
       "    <tr>\n",
       "      <th>SouthernEurope</th>\n",
       "      <td>12</td>\n",
       "      <td>12</td>\n",
       "      <td>Albania</td>\n",
       "      <td>1</td>\n",
       "    </tr>\n",
       "    <tr>\n",
       "      <th>WesternAfrica</th>\n",
       "      <td>15</td>\n",
       "      <td>15</td>\n",
       "      <td>Benin</td>\n",
       "      <td>1</td>\n",
       "    </tr>\n",
       "    <tr>\n",
       "      <th>WesternAsia</th>\n",
       "      <td>18</td>\n",
       "      <td>18</td>\n",
       "      <td>Armenia</td>\n",
       "      <td>1</td>\n",
       "    </tr>\n",
       "    <tr>\n",
       "      <th>WesternEurope</th>\n",
       "      <td>7</td>\n",
       "      <td>7</td>\n",
       "      <td>Austria</td>\n",
       "      <td>1</td>\n",
       "    </tr>\n",
       "  </tbody>\n",
       "</table>\n",
       "</div>"
      ],
      "text/plain": [
       "                  count unique                   top freq\n",
       "Region                                                   \n",
       "Caribbean            16     16   Antigua and Barbuda    1\n",
       "CentralAmerica        8      8                Belize    1\n",
       "CentralAsia           5      5            Kazakhstan    1\n",
       "EasternAfrica        17     17               Burundi    1\n",
       "EasternAsia           7      7  China, Hong Kong SAR    1\n",
       "EasternEurope        10     10               Belarus    1\n",
       "Melanesia             5      5                  Fiji    1\n",
       "Micronesia            4      4              Kiribati    1\n",
       "MiddleAfrica          9      9                Angola    1\n",
       "NorthernAfrica        5      5               Algeria    1\n",
       "NorthernAmerica       4      4               Bermuda    1\n",
       "NorthernEurope       10     10               Denmark    1\n",
       "Oceania               2      2             Australia    1\n",
       "Polynesia             5      5          Cook Islands    1\n",
       "South-easternAsia    11     11     Brunei Darussalam    1\n",
       "SouthAmerica         12     12             Argentina    1\n",
       "SouthernAfrica        5      5              Botswana    1\n",
       "SouthernAsia          9      9           Afghanistan    1\n",
       "SouthernEurope       12     12               Albania    1\n",
       "WesternAfrica        15     15                 Benin    1\n",
       "WesternAsia          18     18               Armenia    1\n",
       "WesternEurope         7      7               Austria    1"
      ]
     },
     "execution_count": 30,
     "metadata": {},
     "output_type": "execute_result"
    }
   ],
   "source": [
    "#count & unique counts of the number of countries with respect to each region are saved in the variable num\n",
    "\n",
    "num = dat.groupby(['Region'])['country'].describe()\n",
    "num"
   ]
  },
  {
   "cell_type": "markdown",
   "id": "04ee83c0",
   "metadata": {},
   "source": [
    "# 4.On average which region has the highest \n",
    "     A. GDP per capita (current US) \n",
    "   \n",
    "     B. International trade: Imports (million US$)"
   ]
  },
  {
   "cell_type": "markdown",
   "id": "da4f4a75",
   "metadata": {},
   "source": [
    "A. GDP per capita (current US) "
   ]
  },
  {
   "cell_type": "code",
   "execution_count": 31,
   "id": "f2cb67d5",
   "metadata": {},
   "outputs": [
    {
     "data": {
      "text/plain": [
       "Region\n",
       "NorthernAmerica    57659.000000\n",
       "WesternEurope      55387.128571\n",
       "Oceania            44823.250000\n",
       "NorthernEurope     42098.220000\n",
       "EasternAsia        27967.614286\n",
       "Name: GDP per capita (current US$), dtype: float64"
      ]
     },
     "execution_count": 31,
     "metadata": {},
     "output_type": "execute_result"
    }
   ],
   "source": [
    "#grouping the regions on the basis of mean of GDP per capita (current US$) and saving it into the variable GDP\n",
    "\n",
    "GDP = dat.groupby('Region')['GDP per capita (current US$)'].mean()\n",
    "\n",
    "#finding the largest value in the variable GDP\n",
    "\n",
    "GDP.nlargest()"
   ]
  },
  {
   "cell_type": "markdown",
   "id": "8f6681b5",
   "metadata": {},
   "source": [
    "B. International trade: Imports (million US$)"
   ]
  },
  {
   "cell_type": "code",
   "execution_count": 32,
   "id": "19784b04",
   "metadata": {},
   "outputs": [
    {
     "data": {
      "text/plain": [
       "Region\n",
       "NorthernAmerica    663552.250000\n",
       "EasternAsia        451995.000000\n",
       "WesternEurope      407498.428571\n",
       "NorthernEurope     113407.200000\n",
       "Oceania            112914.500000\n",
       "Name: International trade: Imports (million US$), dtype: float64"
      ]
     },
     "execution_count": 32,
     "metadata": {},
     "output_type": "execute_result"
    }
   ],
   "source": [
    "#grouping the regions on the basis of mean of International trade: Imports (million US$) and saving it into the variable TRD\n",
    "\n",
    "\n",
    "TRD = dat.groupby('Region')['International trade: Imports (million US$)'].mean()\n",
    "\n",
    "#finding the largest value in the variable TRD\n",
    "\n",
    "TRD.nlargest()"
   ]
  },
  {
   "cell_type": "markdown",
   "id": "d90f27d8",
   "metadata": {},
   "source": [
    "# INSIGHTS:\n",
    "    On average NorthernAmerica has the highest GDP percapita &  International trade: Imports (million US$)."
   ]
  },
  {
   "cell_type": "markdown",
   "id": "832186cc",
   "metadata": {},
   "source": [
    "# 5.Find out which region has more consistent with respect to GDP per capita (current US$)"
   ]
  },
  {
   "cell_type": "code",
   "execution_count": 33,
   "id": "f85021d5",
   "metadata": {},
   "outputs": [
    {
     "data": {
      "text/plain": [
       "Region\n",
       "WesternAfrica      815.095399\n",
       "NorthernAfrica     974.706575\n",
       "SouthernAfrica    2177.551120\n",
       "SouthernAsia      2855.708179\n",
       "EasternAfrica     3716.131770\n",
       "Name: GDP per capita (current US$), dtype: float64"
      ]
     },
     "execution_count": 33,
     "metadata": {},
     "output_type": "execute_result"
    }
   ],
   "source": [
    "#grouping the regions on the basis of standard deviation of GDP per capita (current US$) and saving it into the variable Cons\n",
    "\n",
    "Cons = dat.groupby('Region')['GDP per capita (current US$)'].std()\n",
    "\n",
    "#finding the smallest \n",
    "\n",
    "Cons.nsmallest()"
   ]
  },
  {
   "cell_type": "code",
   "execution_count": null,
   "id": "cf7306ea",
   "metadata": {},
   "outputs": [],
   "source": []
  }
 ],
 "metadata": {
  "kernelspec": {
   "display_name": "Python 3 (ipykernel)",
   "language": "python",
   "name": "python3"
  },
  "language_info": {
   "codemirror_mode": {
    "name": "ipython",
    "version": 3
   },
   "file_extension": ".py",
   "mimetype": "text/x-python",
   "name": "python",
   "nbconvert_exporter": "python",
   "pygments_lexer": "ipython3",
   "version": "3.8.8"
  }
 },
 "nbformat": 4,
 "nbformat_minor": 5
}
